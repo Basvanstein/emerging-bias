{
 "cells": [
  {
   "cell_type": "markdown",
   "metadata": {},
   "source": [
    "# Bias over time\n",
    "\n",
    "### requirements:\n",
    "You need the data for the paper loaded next to the scripts.\n",
    "This script uses the folder DEPOISBIASExtraData, with population data for each algorithm run.\n",
    "It calculates for each 100 evaluations the bias statistic and creates many plots."
   ]
  },
  {
   "cell_type": "code",
   "execution_count": 6,
   "metadata": {},
   "outputs": [],
   "source": [
    "%matplotlib inline\n",
    "from pandas.plotting import parallel_coordinates\n",
    "import matplotlib.pyplot as plt\n",
    "import numpy as np\n",
    "from sklearn.feature_selection import mutual_info_regression\n",
    "from sklearn.metrics import adjusted_mutual_info_score, pairwise_distances_argmin_min, pairwise_distances\n",
    "import pandas as pd\n",
    "from IPython.core.debugger import set_trace\n",
    "from scipy.stats import anderson\n",
    "from scipy.stats import norm\n",
    "from scipy.stats import anderson_ksamp\n",
    "from statsmodels.stats.multitest import multipletests\n",
    "def statstical_bias_fixed(X, alpha: float=0.05, dim: int = 30, adjust_pvalue: bool = False):\n",
    "    \"\"\"Statistical Bias (SB) measure as in \n",
    "    \n",
    "    Kononova, Anna V., Fabio Caraffini, Hao Wang, and Thomas Bäck. \n",
    "    \"Can compact optimisation algorithms be structurally biased?.\" \n",
    "    In International Conference on Parallel Problem Solving from Nature,\n",
    "    pp. 229-242. Springer, Cham, 2020.\n",
    "    \n",
    "    Parameters\n",
    "    ----------\n",
    "    X : pd.DataFrame\n",
    "        data frame containing the last points of f_0 from multiple runs, of shape (N_run, dim)\n",
    "    alpha : float\n",
    "        the significance level\n",
    "    dim : int\n",
    "        the dimensonality of the last points\n",
    "    adjust_pvalue: bool\n",
    "        should the p values be adjusted using the FDR (false discover rate) control?\n",
    "    \"\"\"\n",
    "    _support_sig_levels = np.array([25, 10, 5, 2.5, 1, 0.5, 0.1]) / 100\n",
    "    assert alpha in set(_support_sig_levels)\n",
    "    \n",
    "    sample_unif = np.random.rand(int(1e3))\n",
    "    X_ = X.T\n",
    "    \n",
    "    N = X_.shape[0]\n",
    "    A2, pvalues = np.zeros(N), np.zeros(N)\n",
    "    for i, x in enumerate(X_):\n",
    "        A2[i], _, pvalues[i] = anderson_ksamp([x, sample_unif])\n",
    "    \n",
    "    if adjust_pvalue:\n",
    "        rejects = multipletests(pvalues, alpha=alpha, method='fdr_by')[0]\n",
    "    else:\n",
    "        rejects = pvalues < alpha\n",
    "    A2_ = A2[rejects]\n",
    "    return np.mean(A2_) if len(A2_) > 0 else 0"
   ]
  },
  {
   "cell_type": "code",
   "execution_count": 39,
   "metadata": {
    "scrolled": false
   },
   "outputs": [
    {
     "data": {
      "application/vnd.jupyter.widget-view+json": {
       "model_id": "5580ae8209f54a60bd03b2b124ef2509",
       "version_major": 2,
       "version_minor": 0
      },
      "text/plain": [
       "HBox(children=(HTML(value=''), FloatProgress(value=0.0, max=1.0), HTML(value='')))"
      ]
     },
     "metadata": {},
     "output_type": "display_data"
    },
    {
     "data": {
      "application/vnd.jupyter.widget-view+json": {
       "model_id": "",
       "version_major": 2,
       "version_minor": 0
      },
      "text/plain": [
       "HBox(children=(HTML(value=''), FloatProgress(value=0.0, max=2004.0), HTML(value='')))"
      ]
     },
     "metadata": {},
     "output_type": "display_data"
    },
    {
     "name": "stdout",
     "output_type": "stream",
     "text": [
      "\n",
      "(3000, 500, 30)\n"
     ]
    }
   ],
   "source": [
    "#parse DEPOISBIASExtraData and calculate for each 100 evaluations the bias statistic\n",
    "import os\n",
    "from tqdm.notebook import tqdm\n",
    "import re\n",
    "import copy\n",
    "\n",
    "pattern = re.compile(\"(\\w+?)(\\d+)D30f0-(\\d+)F([\\d\\.]+)Cr(\\d+\\.\\d+)\")\n",
    "\n",
    "interesting_features = [\"1\", \"2\", \"3\", \"4\",\"5\",\"6\",\"7\",\"8\",\"9\",\"10\",\"11\",\"12\",\"13\",\"14\",\"15\",\n",
    "            \"16\",\"17\",\"18\",\"19\",\"20\",\"21\",\"22\",\"23\",\"24\",\"25\",\"26\",\"27\",\"28\",\"29\",\"30\"]\n",
    "\n",
    "all_evil_datas = {}\n",
    "\n",
    "#this takes a lot of main memory, you can also first only do directory 7, and then 8 and 9 for example.\n",
    "#Make sure the data from DEPOISBIASExtraData is at the same level as this script\n",
    "for C in tqdm([7,8,9]):\n",
    "    if C == 7:\n",
    "        features = ['ID','p1_ID','p2_ID','p3_ID', 'fitness', 'eval', 'replaced', \"1\", \"2\", \"3\", \"4\",\"5\",\"6\",\"7\",\"8\",\"9\",\"10\",\"11\",\"12\",\"13\",\"14\",\"15\",\n",
    "            \"16\",\"17\",\"18\",\"19\",\"20\",\"21\",\"22\",\"23\",\"24\",\"25\",\"26\",\"27\",\"28\",\"29\",\"30\"]\n",
    "    if C == 8:\n",
    "        features = ['ID','p1_ID','p2_ID','p3_ID', 'p4_ID', 'fitness', 'eval', 'replaced', \"1\", \"2\", \"3\", \"4\",\"5\",\"6\",\"7\",\"8\",\"9\",\"10\",\"11\",\"12\",\"13\",\"14\",\"15\",\n",
    "            \"16\",\"17\",\"18\",\"19\",\"20\",\"21\",\"22\",\"23\",\"24\",\"25\",\"26\",\"27\",\"28\",\"29\",\"30\"]\n",
    "    if C == 9:\n",
    "        features = ['ID','p1_ID','p2_ID','p3_ID', 'p4_ID', 'p5_ID', 'fitness', 'eval', 'replaced', \"1\", \"2\", \"3\", \"4\",\"5\",\"6\",\"7\",\"8\",\"9\",\"10\",\"11\",\"12\",\"13\",\"14\",\"15\",\n",
    "            \"16\",\"17\",\"18\",\"19\",\"20\",\"21\",\"22\",\"23\",\"24\",\"25\",\"26\",\"27\",\"28\",\"29\",\"30\"]\n",
    "    \n",
    "    \n",
    "    \n",
    "    for filename in tqdm(os.listdir('DEPOISBIASExtraData/'+str(C)+'/'), leave=False):\n",
    "        #if \"DEbobsp5D\" not in filename:\n",
    "        #    continue\n",
    "            \n",
    "        \n",
    "        res = pattern.search(filename)\n",
    "        #print(filename)\n",
    "        if (res != None):\n",
    "            \n",
    "            alg = res.group(1)\n",
    "            pop = int(res.group(2))\n",
    "            \n",
    "            \n",
    "            run_number = int(res.group(3))\n",
    "            F = float(res.group(4))\n",
    "            Cr = float(res.group(5))\n",
    "            old_eval = pop\n",
    "            \n",
    "            evil_key = alg + str(pop) + '-' + str(F) + '-' + str(Cr)\n",
    "            \n",
    "            #check if we have it already or not\n",
    "            if evil_key not in all_evil_datas.keys():\n",
    "                all_evil_datas[evil_key] = np.zeros((3000,pop*100, 30))\n",
    "            \n",
    "            #print(alg,pop,F,Cr)\n",
    "            df = pd.read_csv('/Users/basvanstein/Dropbox/Universiteit/Anna papers/DEPOISBIASExtraData/'+str(C)+'/'+filename, delimiter = \" \", skiprows=1, header=None, names=features)\n",
    "            active_population = {}\n",
    "\n",
    "            for index, row in df.iterrows():\n",
    "                #print('eval', index,)\n",
    "                i_id = int(row['ID'])\n",
    "                i = row[interesting_features].values\n",
    "                replace = int(row['replaced'])\n",
    "                new_eval = int(row['eval'])\n",
    "                \n",
    "                \n",
    "                active_population[i_id] = i\n",
    "                \n",
    "                if len(active_population.values()) > pop:\n",
    "                    if replace in active_population.keys():\n",
    "                        del active_population[replace]\n",
    "                    for j in np.arange(old_eval, new_eval, 100):\n",
    "                        evil_j = int(j / 100)\n",
    "                        all_evil_datas[evil_key][evil_j,(run_number-1)*pop:run_number*pop] = list(active_population.values())\n",
    "                    old_eval = new_eval\n",
    "                    #print('active_pop',active_population)\n",
    "                    #print('eval_pop',eval_populations)\n",
    "            for j in np.arange(old_eval, 300000, 100):\n",
    "                evil_j = int(j / 100)\n",
    "                all_evil_datas[evil_key][evil_j,(run_number-1)*pop:run_number*pop] = list(active_population.values())\n",
    "\n",
    "print(evil_data.shape)\n",
    "\n"
   ]
  },
  {
   "cell_type": "code",
   "execution_count": 41,
   "metadata": {},
   "outputs": [
    {
     "name": "stdout",
     "output_type": "stream",
     "text": [
      "dict_keys(['DErtbsp100-1.783-0.99', 'DErtbsp5-1.783-0.99', 'DEbtbsp5-0.7-0.52', 'DEbtesp5-0.916-0.99', 'DErtbsp20-1.783-0.99', 'DErtesp100-1.133-0.99', 'DErtbsp5-1.133-0.52', 'DErtbsp100-1.133-0.52', 'DErtbsp20-1.133-0.52', 'DEbtbsp5-1.783-0.99', 'DErtbsp20-1.783-0.52', 'DErtbsp100-1.133-0.99', 'DErtbsp20-1.133-0.99', 'DErtbsp100-1.783-0.52', 'DEbtbsp5-1.783-0.52', 'DErtbsp5-1.783-0.52', 'DErtesp100-1.783-0.99', 'DErtbsp5-1.133-0.99', 'DEbtesp5-1.783-0.99', 'DEbtbsp5-0.7-0.99'])\n"
     ]
    }
   ],
   "source": [
    "print(all_evil_datas.keys())"
   ]
  },
  {
   "cell_type": "code",
   "execution_count": null,
   "metadata": {
    "scrolled": true
   },
   "outputs": [],
   "source": [
    "#specific plots for the paper\n",
    "specific_keys_DErtbsp5 = ['DErtbsp5-1.783-0.99', 'DErtbsp5-1.133-0.52', 'DErtbsp5-1.783-0.52', 'DErtbsp5-1.133-0.99', 'DErtbsp20-1.133-0.99', 'DErtbsp100-1.133-0.99', 'DErtbsp20-1.133-0.99']\n",
    "specific_keys_DErtbsPs = ['DErtbsp20-1.133-0.99', 'DErtbsp100-1.133-0.99', 'DErtbsp20-1.133-0.99']\n",
    "\n",
    "all_stats = {}\n",
    "pattern2 = re.compile(\"(\\w+?)(\\d+).*\")\n",
    "for algkey in specific_keys_DErtbsp5:\n",
    "    stats = []\n",
    "    evil_data = all_evil_datas[algkey]\n",
    "\n",
    "    res = pattern2.search(algkey)\n",
    "    algname = res.group(1)\n",
    "    pop = int(res.group(2))\n",
    "    #print(evil_data[r,:,:])\n",
    "    for r in tqdm(np.arange(pop, len(evil_data))):\n",
    "        sample = evil_data[r,:,:]\n",
    "        stats.append(statstical_bias_fixed(sample))\n",
    "    all_stats[algkey] = copy.deepcopy(stats)\n",
    "\n"
   ]
  },
  {
   "cell_type": "code",
   "execution_count": 48,
   "metadata": {},
   "outputs": [
    {
     "data": {
      "text/plain": [
       "<Figure size 576x432 with 0 Axes>"
      ]
     },
     "metadata": {},
     "output_type": "display_data"
    },
    {
     "data": {
      "text/plain": [
       "<Figure size 576x432 with 0 Axes>"
      ]
     },
     "metadata": {},
     "output_type": "display_data"
    }
   ],
   "source": [
    "#specific images for the paper\n",
    "plt.figure(figsize=(8,6))\n",
    "plt.scatter(np.arange(len(all_stats['DErtbsp5-1.783-0.99'])),all_stats['DErtbsp5-1.783-0.99'], s=5, marker='*', label='F=1.78, Cr=0.99')\n",
    "plt.scatter(np.arange(len(all_stats['DErtbsp5-1.133-0.52'])),all_stats['DErtbsp5-1.133-0.52'], s=5, marker='+', label='F=1.13, Cr=0.52')\n",
    "plt.scatter(np.arange(len(all_stats['DErtbsp5-1.783-0.52'])),all_stats['DErtbsp5-1.783-0.52'], s=5, marker='d', label='F=1.78, Cr=0.52')\n",
    "plt.scatter(np.arange(len(all_stats['DErtbsp5-1.133-0.99'])),all_stats['DErtbsp5-1.133-0.99'], s=5, marker='x', label='F=1.13, Cr=0.99')\n",
    "plt.xlabel(\"Evaluation * 100\")\n",
    "plt.ylabel(\"Bias statistic\")\n",
    "plt.title(\"DErtbs P=5\")\n",
    "plt.grid()\n",
    "plt.legend()\n",
    "plt.savefig('time-img/combination_DErtbsp5.pdf')\n",
    "plt.clf()\n",
    "\n",
    "plt.figure(figsize=(8,6))\n",
    "plt.scatter(np.arange(len(all_stats['DErtbsp5-1.133-0.99'])),all_stats['DErtbsp5-1.133-0.99'], s=5, marker='*', label='P=5')\n",
    "plt.scatter(np.arange(len(all_stats['DErtbsp20-1.133-0.99'])),all_stats['DErtbsp20-1.133-0.99'], s=5, marker='+', label='P=20')\n",
    "plt.scatter(np.arange(len(all_stats['DErtbsp100-1.133-0.99'])),all_stats['DErtbsp100-1.133-0.99'], s=5, marker='d', label='P=100')\n",
    "plt.xlabel(\"Evaluation * 100\")\n",
    "plt.ylabel(\"Bias statistic\")\n",
    "plt.title(\"DErtbs F=1.13 Cr=0.99\")\n",
    "plt.grid()\n",
    "plt.legend()\n",
    "plt.savefig('time-img/combination_DErtbspvari.pdf')\n",
    "plt.clf()"
   ]
  },
  {
   "cell_type": "code",
   "execution_count": null,
   "metadata": {
    "scrolled": false
   },
   "outputs": [],
   "source": [
    "# all images of bias over time\n",
    "import seaborn as sns\n",
    "\n",
    "pattern2 = re.compile(\"(\\w+?)(\\d+).*\")\n",
    "for alg in all_evil_datas.keys():\n",
    "    stats = []\n",
    "    evil_data = all_evil_datas[alg]\n",
    "    print(alg)\n",
    "    res = pattern2.search(alg)\n",
    "    algname = res.group(1)\n",
    "    pop = int(res.group(2))\n",
    "    #print(evil_data[r,:,:])\n",
    "    for r in tqdm(np.arange(pop, len(evil_data))):\n",
    "        sample = evil_data[r,:,:]\n",
    "        stats.append(statstical_bias_fixed(sample))\n",
    "    \n",
    "    plt.figure(figsize=(8,6))\n",
    "    plt.scatter(np.arange(len(stats)),stats, s=2)\n",
    "    plt.xlabel(\"Evaluation * 100\")\n",
    "    plt.ylabel(\"Bias statistic\")\n",
    "    plt.title(alg)\n",
    "    plt.grid()\n",
    "    plt.savefig('time-img/'+alg+'.pdf')\n",
    "    plt.savefig('time-img/'+alg+'.png')\n",
    "    plt.clf()"
   ]
  },
  {
   "cell_type": "code",
   "execution_count": 25,
   "metadata": {},
   "outputs": [
    {
     "data": {
      "image/png": "[encoded data removed]",
      "text/plain": [
       "<Figure size 1008x576 with 1 Axes>"
      ]
     },
     "metadata": {
      "needs_background": "light"
     },
     "output_type": "display_data"
    },
    {
     "data": {
      "text/plain": [
       "<Figure size 432x288 with 0 Axes>"
      ]
     },
     "metadata": {},
     "output_type": "display_data"
    }
   ],
   "source": [
    "#test\n",
    "import seaborn as sns\n",
    "\n",
    "plt.figure(figsize=(14,8))\n",
    "plt.scatter(np.arange(len(stats)),stats, s=2)\n",
    "plt.xlabel(\"Evaluation * 100\")\n",
    "plt.ylabel(\"Bias statistic\")\n",
    "plt.title(alg + \" with p=\"+str(pop))\n",
    "plt.grid()\n",
    "plt.show()\n",
    "plt.clf()"
   ]
  },
  {
   "cell_type": "code",
   "execution_count": null,
   "metadata": {},
   "outputs": [],
   "source": [
    "sf = pd.DataFrame(all_data, columns=['alg', 'pop', 'F', 'Cr', 'run_number', 'evals'])\n",
    "sf"
   ]
  }
 ],
 "metadata": {
  "kernelspec": {
   "display_name": "3.8",
   "language": "python",
   "name": "3.8"
  },
  "language_info": {
   "codemirror_mode": {
    "name": "ipython",
    "version": 3
   },
   "file_extension": ".py",
   "mimetype": "text/x-python",
   "name": "python",
   "nbconvert_exporter": "python",
   "pygments_lexer": "ipython3",
   "version": "3.8.1"
  }
 },
 "nbformat": 4,
 "nbformat_minor": 4
}
